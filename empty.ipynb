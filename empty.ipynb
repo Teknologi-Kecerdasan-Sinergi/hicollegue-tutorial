{
 "cells": [
  {
   "cell_type": "markdown",
   "metadata": {},
   "source": [
    "### Data Science Salary Analysis\n",
    "\n",
    "Dataset ini digunakan untuk menganalisis gaji di bidang data science. Data diambil dari sumber berikut:\n",
    "\n",
    "[Data Science Salary Analysis - Kaggle](https://www.kaggle.com/code/adilashrafi/data-science-salary-analysis/input)\n",
    "\n",
    "File dataset: `salaries.csv`\n"
   ]
  },
  {
   "cell_type": "markdown",
   "metadata": {},
   "source": [
    "### Data Cleaning"
   ]
  },
  {
   "cell_type": "markdown",
   "metadata": {},
   "source": [
    "### Data Exploration"
   ]
  },
  {
   "cell_type": "markdown",
   "metadata": {},
   "source": [
    "#### Analisis Univariabel"
   ]
  },
  {
   "cell_type": "markdown",
   "metadata": {},
   "source": [
    "**Analisis Univariabel**\n",
    "\n",
    "**Analisis univariabel** adalah langkah awal dalam memahami dataset dengan mempelajari distribusi dan pola dari satu variabel saja, baik itu variabel kategorikal maupun numerik.\n",
    "\n",
    "---\n",
    "\n",
    "**1. Jenis Variabel**\n",
    "- **Kategorikal**: Berisi kategori atau kelompok diskrit (misalnya, jenis kelamin, warna, status pekerjaan).\n",
    "- **Numerik**: Berisi angka yang bisa kontinu atau diskrit (misalnya, usia, pendapatan, suhu).\n",
    "\n",
    "---\n",
    "\n",
    "**2. Contoh Analisis**\n",
    "\n",
    "**a. Variabel Kategorikal**  \n",
    "Gunakan `sns.countplot` untuk menghitung frekuensi setiap kategori.  \n",
    "```python\n",
    "sns.countplot(data=df, x=\"Category_Variable\")\n",
    "```\n",
    "\n",
    "- **Apa yang dianalisis?**  \n",
    "  Melihat jumlah data untuk setiap kategori.\n",
    "- **Hasilnya:**  \n",
    "  Grafik batang yang menunjukkan distribusi setiap kategori, membantu mengetahui apakah ada ketidakseimbangan data.\n",
    "\n",
    "---\n",
    "\n",
    "**b. Variabel Numerik**  \n",
    "Gunakan `sns.histplot` untuk mempelajari distribusi nilai numerik.  \n",
    "```python\n",
    "sns.histplot(data=df, x=\"Numeric_Variable\", bins=10, kde=True)\n",
    "```\n",
    "\n",
    "- **Apa yang dianalisis?**  \n",
    "  Melihat pola distribusi data, apakah normal, skewed, atau terdapat outlier.\n",
    "- **Hasilnya:**  \n",
    "  Histogram yang menunjukkan jumlah data dalam rentang nilai tertentu (dengan atau tanpa kurva distribusi)."
   ]
  },
  {
   "cell_type": "markdown",
   "metadata": {},
   "source": [
    "#### Analisa Bivariabel"
   ]
  },
  {
   "cell_type": "markdown",
   "metadata": {},
   "source": [
    "**Analisis Bivariabel**\n",
    "\n",
    "**Numerik vs. Numerik**  \n",
    "Gunakan `sns.scatterplot` untuk memvisualisasikan hubungan antara dua variabel numerik.  \n",
    "```python\n",
    "sns.scatterplot(data=df, x=\"Variable1\", y=\"Variable2\")\n",
    "```\n",
    "- **Fungsi:** Menunjukkan pola hubungan (positif, negatif, atau tidak ada hubungan) antara dua variabel.\n",
    "- **Hasil:** Titik-titik data yang merepresentasikan pasangan nilai dari kedua variabel.\n",
    "\n",
    "---\n",
    "\n",
    "**Kategorikal vs. Numerik**  \n",
    "Gunakan `sns.boxplot` untuk membandingkan distribusi variabel numerik di setiap kategori.  \n",
    "```python\n",
    "sns.boxplot(data=df, x=\"Categorical_Variable\", y=\"Numeric_Variable\")\n",
    "```\n",
    "- **Fungsi:** Menampilkan distribusi data, median, rentang interkuartil, dan outlier untuk setiap kategori.\n",
    "- **Hasil:** Kotak-kotak yang merepresentasikan distribusi nilai numerik di setiap kategori."
   ]
  },
  {
   "cell_type": "markdown",
   "metadata": {},
   "source": [
    "#### Analisis Multivariabel"
   ]
  },
  {
   "cell_type": "markdown",
   "metadata": {},
   "source": [
    "**Rumus Korelasi Pearson**\n",
    "\n",
    "Korelasi Pearson mengukur hubungan linear antara dua variabel. Rumusnya adalah:\n",
    "\n",
    "\\[\n",
    "r = \\frac{\\sum (x_i - \\bar{x})(y_i - \\bar{y})}{\\sqrt{\\sum (x_i - \\bar{x})^2 \\sum (y_i - \\bar{y})^2}}\n",
    "\\]\n",
    "\n",
    "- \\( x_i, y_i \\): Nilai individu dari dua variabel.\n",
    "- \\( \\bar{x}, \\bar{y} \\): Rata-rata dari masing-masing variabel.\n",
    "- \\( r \\): Nilai korelasi (antara -1 hingga 1).\n",
    "\n",
    "```python\n",
    "sns.heatmap(df.corr(), annot=True)\n",
    "```\n",
    "\n",
    "1. **`sns.heatmap(...)`**  \n",
    "   - Membuat heatmap (peta panas) menggunakan library `seaborn` untuk memvisualisasikan data dalam bentuk tabel dengan warna.\n",
    "\n",
    "2. **`df.corr()`**  \n",
    "   - Menghitung matriks korelasi untuk semua pasangan kolom dalam DataFrame `df`. Setiap nilai menunjukkan kekuatan dan arah hubungan antara dua variabel:\n",
    "     - \\( r > 0 \\): Hubungan positif.\n",
    "     - \\( r < 0 \\): Hubungan negatif.\n",
    "     - \\( r = 0 \\): Tidak ada hubungan.\n"
   ]
  },
  {
   "cell_type": "markdown",
   "metadata": {},
   "source": [
    "### Mendapatkan Insights dari Data"
   ]
  },
  {
   "cell_type": "markdown",
   "metadata": {},
   "source": [
    "#### Top 10 Pekerjaan di Data Science"
   ]
  },
  {
   "cell_type": "markdown",
   "metadata": {},
   "source": [
    "Penjelasan Kode\n",
    "\n",
    "Kode ini menghasilkan diagram batang untuk memvisualisasikan 10 jabatan pekerjaan paling umum di bidang data science berdasarkan dataset yang diberikan.\n",
    "\n",
    "Langkah-langkah Utama:\n",
    "1. **Persiapan Data**:\n",
    "   - `df_chart` mengambil 10 jabatan pekerjaan teratas beserta jumlahnya menggunakan `value_counts()` dari dataset.\n",
    "   - `job_titles` menyimpan label jabatan pekerjaan (index dari `df_chart`).\n",
    "   - `total_people` menyimpan jumlah yang sesuai (nilai dari `df_chart`).\n",
    "\n",
    "2. **Skema Warna**:\n",
    "   - Daftar warna yang telah ditentukan digunakan untuk memberikan gaya pada batang diagram.\n",
    "\n",
    "3. **Pembuatan Diagram**:\n",
    "   - `matplotlib.pyplot` digunakan untuk membuat diagram batang (`ax.bar`) dengan warna batang yang disesuaikan, garis tepi hitam, dan efek transparan sebagian (`alpha=0.7`).\n",
    "\n",
    "4. **Pemberian Label pada Batang**:\n",
    "   - Setiap batang diberi label dengan jumlahnya masing-masing (ditempatkan di tengah batang) menggunakan `ax.text`.\n",
    "\n",
    "5. **Judul dan Sumbu**:\n",
    "   - Diagram diberi judul deskriptif dan label sumbu untuk kejelasan.\n",
    "\n",
    "6. **Peningkatan Tampilan**:\n",
    "   - Label sumbu-x diputar agar lebih mudah dibaca.\n",
    "   - `plt.tight_layout()` digunakan untuk menyesuaikan tata letak agar tidak terjadi tumpang tindih.\n",
    "\n",
    "7. **Visualisasi**:\n",
    "   - Diagram ditampilkan menggunakan `plt.show()`.\n",
    "\n",
    "Hasil:\n",
    "- Diagram batang yang menarik secara visual, menampilkan 10 jabatan pekerjaan teratas beserta jumlahnya dengan jelas sehingga data mudah untuk diinterpretasikan.\n"
   ]
  },
  {
   "cell_type": "markdown",
   "metadata": {},
   "source": [
    "# Menghitung Rata-Rata Gaji Berdasarkan Job Title\n",
    "\n",
    "Kode ini melakukan analisis untuk menghitung rata-rata gaji berdasarkan posisi pekerjaan (`job_title`):\n",
    "\n",
    "1. **Mengelompokkan data** berdasarkan kolom `job_title` dan menghitung rata-rata gaji (`salary_in_usd`) menggunakan fungsi `groupby()` dan `mean()`.\n",
    "2. **Menyusun ulang hasilnya** menjadi DataFrame baru dan mereset indeksnya menggunakan `reset_index()`.\n",
    "3. **Mengubah nama kolom** untuk kejelasan (opsional), yaitu menjadi `job_title` dan `average_salary_in_usd`.\n",
    "4. **Mengurutkan hasil** berdasarkan kolom `average_salary_in_usd` dan menampilkan 10 job title dengan rata-rata gaji tertinggi menggunakan `sort_values()` dan `tail(10)`.\n",
    "\n",
    "Hasilnya adalah daftar 10 posisi pekerjaan dengan rata-rata gaji tertinggi.\n"
   ]
  },
  {
   "cell_type": "markdown",
   "metadata": {},
   "source": [
    "### AI Model Building"
   ]
  },
  {
   "cell_type": "markdown",
   "metadata": {},
   "source": [
    "#### Feature Engineering"
   ]
  },
  {
   "cell_type": "markdown",
   "metadata": {},
   "source": [
    "**Feature Engineering**\n",
    "\n",
    "Feature engineering adalah proses memilih, membuat, atau memodifikasi fitur/variabel dalam dataset untuk meningkatkan kinerja model machine learning. Proses ini penting karena fitur yang relevan dan informatif dapat membantu model memahami pola dalam data lebih baik.\n",
    "\n",
    "**Langkah-langkah Utama:**\n",
    "1. **Pemilihan Variabel (Feature Selection)**:\n",
    "   - Memilih fitur yang paling relevan dengan target menggunakan teknik seperti korelasi, mutual information, atau metode berbasis model (e.g., feature importance dari model pohon keputusan).\n",
    "\n",
    "2. **Transformasi Data**:\n",
    "   - Mengubah fitur agar lebih representatif, misalnya melalui normalisasi, standarisasi, atau encoding untuk data kategori.\n",
    "\n",
    "3. **Pembuatan Fitur Baru**:\n",
    "   - Menggabungkan fitur yang ada untuk menghasilkan fitur baru yang lebih informatif, seperti membuat fitur interaksi, agregasi, atau fitur temporal.\n",
    "\n",
    "4. **Reduksi Dimensi**:\n",
    "   - Mengurangi jumlah fitur menggunakan teknik seperti PCA (Principal Component Analysis) untuk menghindari overfitting atau redundansi.\n",
    "\n",
    "**Tujuan:**\n",
    "- Memastikan model hanya bekerja dengan fitur yang relevan dan bebas dari noise, sehingga performa dan efisiensi model meningkat.\n"
   ]
  },
  {
   "cell_type": "markdown",
   "metadata": {},
   "source": [
    "#### Label Encoding"
   ]
  },
  {
   "cell_type": "markdown",
   "metadata": {},
   "source": [
    "**Penjelasan Singkat tentang Label Encoder**\n",
    "\n",
    "Label Encoder adalah teknik dalam preprocessing data yang digunakan untuk mengubah data kategori menjadi representasi numerik. Setiap kategori unik dalam data diberikan nilai integer. Teknik ini sering digunakan ketika model machine learning hanya dapat bekerja dengan data numerik.\n",
    "\n",
    "**Cara Kerja:**\n",
    "1. Setiap kategori unik diurutkan dan diberi label integer mulai dari 0.\n",
    "2. Data kategori asli diubah menjadi nilai numerik berdasarkan label yang telah ditetapkan.\n",
    "\n",
    "**Contoh:**\n",
    "- Data kategori: `['Merah', 'Hijau', 'Biru']`\n",
    "- Hasil encoding: `{'Merah': 0, 'Hijau': 1, 'Biru': 2}`\n",
    "\n",
    "**Kelebihan:**\n",
    "- Mudah digunakan dan sederhana untuk data kategori yang terurut atau ordinal.\n",
    "\n",
    "**Kekurangan:**\n",
    "- Tidak mempertahankan hubungan non-hierarkis antar kategori (misalnya, model dapat menganggap 2 lebih besar dari 1).\n",
    "\n",
    "**Penggunaan:**\n",
    "Label Encoder cocok untuk data kategori dengan hubungan ordinal, tetapi untuk data kategori nominal, teknik seperti One-Hot Encoding lebih disarankan.\n"
   ]
  },
  {
   "cell_type": "markdown",
   "metadata": {},
   "source": [
    "#### Standard Scaling"
   ]
  },
  {
   "cell_type": "markdown",
   "metadata": {},
   "source": [
    "**Penjelasan Singkat tentang Data Rescaling**\n",
    "\n",
    "Data rescaling adalah proses transformasi data numerik ke dalam skala tertentu, biasanya untuk memastikan bahwa semua fitur memiliki rentang nilai yang serupa. Teknik ini penting dalam machine learning karena banyak algoritma sensitif terhadap perbedaan skala antar fitur, seperti regresi linier, SVM, dan algoritma berbasis gradien.\n",
    "\n",
    "**Tujuan:**\n",
    "- Menghindari dominasi fitur dengan rentang nilai besar terhadap fitur dengan nilai kecil.\n",
    "- Mempercepat konvergensi model dalam proses pelatihan.\n",
    "\n",
    "**Teknik Utama:**\n",
    "1. **Min-Max Scaling**:\n",
    "   - Mengubah data ke dalam rentang [0, 1] atau skala lain yang ditentukan.\n",
    "   - Formula: \n",
    "     \\[\n",
    "     X_{\\text{scaled}} = \\frac{X - X_{\\text{min}}}{X_{\\text{max}} - X_{\\text{min}}}\n",
    "     \\]\n",
    "\n",
    "2. **Standardization (Z-Score Scaling)**:\n",
    "   - Mengubah data agar memiliki mean 0 dan standar deviasi 1.\n",
    "   - Formula:\n",
    "     \\[\n",
    "     X_{\\text{standardized}} = \\frac{X - \\mu}{\\sigma}\n",
    "     \\]\n",
    "     di mana \\(\\mu\\) adalah rata-rata dan \\(\\sigma\\) adalah standar deviasi.\n",
    "\n",
    "**Kapan Diperlukan:**\n",
    "- Jika fitur memiliki unit yang berbeda atau rentang nilai yang jauh berbeda.\n",
    "- Untuk algoritma berbasis jarak (e.g., KNN) atau gradien (e.g., Logistic Regression, Neural Networks).\n",
    "\n",
    "**Catatan Penting:**\n",
    "- Rescaling harus dilakukan setelah memisahkan data pelatihan dan pengujian untuk menghindari data leakage.\n"
   ]
  },
  {
   "cell_type": "markdown",
   "metadata": {},
   "source": [
    "#### Linear Regression"
   ]
  },
  {
   "cell_type": "markdown",
   "metadata": {},
   "source": [
    "Linear regression adalah algoritma sederhana yang digunakan untuk **memprediksi hubungan antara dua variabel**: \n",
    "\n",
    "1. **Variabel independen** (X) – faktor yang digunakan untuk membuat prediksi.\n",
    "2. **Variabel dependen** (Y) – hasil yang ingin diprediksi.\n",
    "\n",
    "Tujuannya adalah **menemukan garis lurus** terbaik yang memetakan hubungan antara X dan Y. Garis ini disebut **garis regresi** dan dinyatakan dengan rumus:\n",
    "\n",
    "\\[\n",
    "Y = mX + b\n",
    "\\]\n",
    "\n",
    "- **m** adalah kemiringan garis (seberapa besar perubahan Y jika X berubah).\n",
    "- **b** adalah titik potong garis di sumbu Y.\n",
    "\n",
    "Dengan algoritma ini, kita bisa memprediksi nilai Y untuk nilai X tertentu berdasarkan pola data sebelumnya. Linear regression sering digunakan dalam analisis data dan prediksi yang sederhana."
   ]
  },
  {
   "cell_type": "markdown",
   "metadata": {},
   "source": [
    "### Use Gradient Boosting Regressor"
   ]
  },
  {
   "cell_type": "markdown",
   "metadata": {},
   "source": [
    "Gradient Boosting Regressor adalah algoritma machine learning yang digunakan untuk **memprediksi nilai kontinu** (regresi) dengan cara menggabungkan banyak **model sederhana** (biasanya pohon keputusan) untuk membuat model yang kuat.\n",
    "\n",
    "**Cara Kerjanya:**\n",
    "1. **Membangun model awal**: Algoritma memulai dengan model prediksi sederhana (contohnya pohon keputusan kecil).\n",
    "2. **Menghitung error**: Mengukur seberapa jauh prediksi model dari nilai sebenarnya.\n",
    "3. **Belajar dari error**: Membuat model baru yang fokus memperbaiki error dari model sebelumnya.\n",
    "4. **Menggabungkan model-model**: Semua model digabung secara bertahap untuk menghasilkan prediksi akhir yang lebih akurat."
   ]
  },
  {
   "cell_type": "markdown",
   "metadata": {},
   "source": [
    "### Using Random Forest Regressor"
   ]
  },
  {
   "cell_type": "markdown",
   "metadata": {},
   "source": [
    "Random Forest Regressor adalah algoritma machine learning yang digunakan untuk **memprediksi nilai kontinu** (regresi) dengan cara menggabungkan banyak **pohon keputusan** untuk menghasilkan prediksi yang lebih akurat dan stabil.\n",
    "\n",
    "**Cara Kerjanya:**\n",
    "1. **Membuat banyak pohon keputusan**: Algoritma membangun banyak model pohon keputusan menggunakan bagian-bagian acak dari data.\n",
    "2. **Menggabungkan hasil pohon**: Setiap pohon memberikan prediksi, dan hasil akhirnya adalah **rata-rata dari semua prediksi**.\n",
    "\n",
    "Algoritma ini cocok untuk dataset dengan pola yang kompleks dan tidak linier."
   ]
  },
  {
   "cell_type": "markdown",
   "metadata": {},
   "source": [
    "### Using Tensorflow as Neural Network Regressor"
   ]
  },
  {
   "cell_type": "markdown",
   "metadata": {},
   "source": [
    "Kode ini digunakan untuk membangun, melatih, dan mengevaluasi model regresi menggunakan TensorFlow. Berikut adalah penjelasan langkah-langkahnya:\n",
    "\n",
    "1. **Membangun Model**\n",
    "- **Input Layer**: Menggunakan `Dense` layer dengan 16 neuron dan aktivasi `relu`, mengambil input dengan dimensi sesuai data pelatihan (`X_train.shape[1]`).\n",
    "- **Hidden Layer**: Menambahkan satu hidden layer dengan 8 neuron dan aktivasi `relu`.\n",
    "- **Output Layer**: Layer terakhir memiliki 1 neuron tanpa aktivasi, sesuai dengan output regresi (nilai kontinu).\n",
    "\n",
    "2. **Mengompilasi Model**\n",
    "- **Optimizer**: Menggunakan `Adam` optimizer dengan learning rate yang disesuaikan (`0.001`).\n",
    "- **Loss Function**: Menggunakan `mean_squared_error`, karena ini adalah fungsi yang umum digunakan untuk regresi.\n",
    "- **Metrics**: `mean_absolute_error` digunakan sebagai metrik tambahan untuk mengevaluasi performa.\n",
    "\n",
    "3. **Melatih Model**\n",
    "- Model dilatih menggunakan `X_train` (data fitur) dan `y_train` (data target) selama 10 epoch. Proses pelatihan disimpan dalam variabel `history`.\n",
    "\n",
    "4. **Prediksi**\n",
    "- Setelah model dilatih, dilakukan prediksi pada data uji (`X_test`) menggunakan `model.predict()`. Hasil prediksi diratakan menjadi array 1D dengan `flatten()`.\n",
    "\n",
    "5. **Evaluasi Model**\n",
    "- **Mean Squared Error (MSE)**: Mengukur seberapa jauh prediksi model dari nilai sebenarnya dalam skala kuadrat.\n",
    "- **R² Score**: Menilai seberapa baik model menjelaskan variasi dalam data.\n",
    "\n",
    "6. **Mencetak Hasil**\n",
    "- Hasil evaluasi model dicetak untuk memahami kinerjanya pada data uji, meliputi MSE dan R² score.\n",
    "\n",
    "Kode ini secara keseluruhan menunjukkan proses dasar dalam membangun model regresi menggunakan TensorFlow, dengan fokus pada pelatihan, prediksi, dan evaluasi.\n"
   ]
  }
 ],
 "metadata": {
  "kernelspec": {
   "display_name": "venv",
   "language": "python",
   "name": "python3"
  },
  "language_info": {
   "codemirror_mode": {
    "name": "ipython",
    "version": 3
   },
   "file_extension": ".py",
   "mimetype": "text/x-python",
   "name": "python",
   "nbconvert_exporter": "python",
   "pygments_lexer": "ipython3",
   "version": "3.10.11"
  }
 },
 "nbformat": 4,
 "nbformat_minor": 2
}
